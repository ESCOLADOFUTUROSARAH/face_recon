{
 "cells": [
  {
   "cell_type": "code",
   "execution_count": 1,
   "metadata": {},
   "outputs": [],
   "source": [
    "# Importa a biblioteca NumPy, que fornece suporte para grandes matrizes multidimensionais e funções matemáticas avançadas. Ela é essencial para cálculos numéricos eficientes em Python.\n",
    "import numpy as np\n",
    "\n",
    "# Importa a biblioteca Matplotlib, especificamente o módulo pyplot, que é usado para criar gráficos e visualizações de dados. Isso é fundamental para analisar visualmente os resultados do projeto científico.\n",
    "import matplotlib.pyplot as plt"
   ]
  },
  {
   "cell_type": "code",
   "execution_count": 2,
   "metadata": {},
   "outputs": [
    {
     "name": "stdout",
     "output_type": "stream",
     "text": [
      "[  0   1   2   3   4   5   6   7   8   9  10  11  12  13  14  15  16  17\n",
      "  18  19  20  21  22  23  24  25  26  27  28  29  30  31  32  33  34  35\n",
      "  36  37  38  39  40  41  42  43  44  45  46  47  48  49  50  51  52  53\n",
      "  54  55  56  57  58  59  60  61  62  63  64  65  66  67  68  69  70  71\n",
      "  72  73  74  75  76  77  78  79  80  81  82  83  84  85  86  87  88  89\n",
      "  90  91  92  93  94  95  96  97  98  99 100 101 102 103 104 105 106 107\n",
      " 108 109 110 111 112 113 114 115 116 117 118 119 120 121 122 123 124 125\n",
      " 126 127 128 129 130 131 132 133 134 135 136 137 138 139 140 141 142 143\n",
      " 144 145 146 147 148 149 150 151 152 153 154 155 156 157 158 159 160 161\n",
      " 162 163 164 165 166 167 168 169 170 171 172 173 174 175 176 177 178 179\n",
      " 180 181 182 183 184 185 186 187 188 189 190 191 192 193 194 195 196 197\n",
      " 198 199 200 201 202 203 204 205 206 207 208 209 210 211 212 213 214 215\n",
      " 216 217 218 219 220 221 222 223 224 225 226 227 228 229 230 231 232 233\n",
      " 234 235 236 237 238 239 240 241 242 243 244 245 246 247 248 249 250 251\n",
      " 252 253 254 255]\n"
     ]
    }
   ],
   "source": [
    "# Cria um array de números inteiros no intervalo de 0 a 255.\n",
    "# O array terá 256 elementos, organizados em uma única dimensão.\n",
    "# Esse array pode representar valores de intensidade de pixels, por exemplo, em uma imagem em tons de cinza.\n",
    "arr = np.arange(0, 256, 1)\n",
    "\n",
    "# Imprime o array criado.\n",
    "print(arr)"
   ]
  },
  {
   "cell_type": "code",
   "execution_count": 3,
   "metadata": {},
   "outputs": [
    {
     "name": "stdout",
     "output_type": "stream",
     "text": [
      "[[  0   1   2   3   4   5   6   7   8   9  10  11  12  13  14  15]\n",
      " [ 16  17  18  19  20  21  22  23  24  25  26  27  28  29  30  31]\n",
      " [ 32  33  34  35  36  37  38  39  40  41  42  43  44  45  46  47]\n",
      " [ 48  49  50  51  52  53  54  55  56  57  58  59  60  61  62  63]\n",
      " [ 64  65  66  67  68  69  70  71  72  73  74  75  76  77  78  79]\n",
      " [ 80  81  82  83  84  85  86  87  88  89  90  91  92  93  94  95]\n",
      " [ 96  97  98  99 100 101 102 103 104 105 106 107 108 109 110 111]\n",
      " [112 113 114 115 116 117 118 119 120 121 122 123 124 125 126 127]\n",
      " [128 129 130 131 132 133 134 135 136 137 138 139 140 141 142 143]\n",
      " [144 145 146 147 148 149 150 151 152 153 154 155 156 157 158 159]\n",
      " [160 161 162 163 164 165 166 167 168 169 170 171 172 173 174 175]\n",
      " [176 177 178 179 180 181 182 183 184 185 186 187 188 189 190 191]\n",
      " [192 193 194 195 196 197 198 199 200 201 202 203 204 205 206 207]\n",
      " [208 209 210 211 212 213 214 215 216 217 218 219 220 221 222 223]\n",
      " [224 225 226 227 228 229 230 231 232 233 234 235 236 237 238 239]\n",
      " [240 241 242 243 244 245 246 247 248 249 250 251 252 253 254 255]]\n"
     ]
    }
   ],
   "source": [
    "# Redimensiona o array 'arr' de uma única dimensão para uma matriz de 16x16.\n",
    "# Isso transforma o array de 256 elementos em uma matriz bidimensional com 16 linhas e 16 colunas.\n",
    "# Este formato é comum para representar imagens pequenas em tons de cinza, onde cada elemento corresponde a um pixel.\n",
    "arr = arr.reshape((16, 16))\n",
    "\n",
    "# Imprime a matriz redimensionada para verificar sua nova estrutura.\n",
    "print(arr)"
   ]
  },
  {
   "cell_type": "code",
   "execution_count": 4,
   "metadata": {},
   "outputs": [],
   "source": [
    "# Converte os elementos da matriz 'arr' para o tipo de dado uint8 (unsigned 8-bit integer).\n",
    "# Isso significa que cada elemento da matriz será um número inteiro sem sinal, variando de 0 a 255.\n",
    "# Essa conversão é comum em processamento de imagens, onde cada pixel é representado por um valor de 8 bits.\n",
    "arr_8bit = arr.astype(np.uint8)"
   ]
  },
  {
   "cell_type": "code",
   "execution_count": 5,
   "metadata": {},
   "outputs": [
    {
     "data": {
      "image/png": "[encoded data removed]",
      "text/plain": [
       "<Figure size 640x480 with 1 Axes>"
      ]
     },
     "metadata": {},
     "output_type": "display_data"
    }
   ],
   "source": [
    "# Exibe a matriz 'arr_8bit' como uma imagem em tons de cinza.\n",
    "# A função imshow() é utilizada para visualizar matrizes como imagens.\n",
    "# O parâmetro 'cmap' define o mapa de cores a ser utilizado, neste caso 'gray', para uma imagem em escala de cinza.\n",
    "plt.imshow(arr_8bit, cmap='gray')\n",
    "\n",
    "# Remove os eixos da imagem para uma visualização mais limpa.\n",
    "plt.axis('off')\n",
    "\n",
    "# Exibe a imagem na tela.\n",
    "plt.show()"
   ]
  },
  {
   "cell_type": "code",
   "execution_count": 11,
   "metadata": {},
   "outputs": [
    {
     "data": {
      "text/plain": [
       "(-0.5, 15.5, 15.5, -0.5)"
      ]
     },
     "execution_count": 11,
     "metadata": {},
     "output_type": "execute_result"
    },
    {
     "data": {
      "image/png": "[encoded data removed]",
      "text/plain": [
       "<Figure size 640x480 with 1 Axes>"
      ]
     },
     "metadata": {},
     "output_type": "display_data"
    }
   ],
   "source": [
    "# Gera uma matriz 16x16 com valores inteiros aleatórios entre 0 e 254\n",
    "# Esses valores serão do tipo uint8 (inteiros não negativos de 8 bits)\n",
    "arr1 = np.random.randint(low=0, high=255, size=(16,16), dtype=np.uint8)\n",
    "\n",
    "# Exibe a matriz como uma imagem em escala de cinza\n",
    "plt.imshow(arr1, cmap='gray')\n",
    "\n",
    "# Remove os eixos ao redor da imagem para exibição limpa\n",
    "plt.axis('off')"
   ]
  },
  {
   "cell_type": "code",
   "execution_count": 9,
   "metadata": {},
   "outputs": [
    {
     "data": {
      "text/plain": [
       "array([[157, 253, 186,  81,  33,   7,  55,  97,  77, 245,  52,  23, 158,\n",
       "        148,  22, 100],\n",
       "       [ 17,  34,  14, 128, 153,  11,  10, 103,  57, 242,  44,  61,  63,\n",
       "        227, 164,  75],\n",
       "       [213,   2, 181, 239, 144,  12, 174, 112, 198,  37,  43, 211, 159,\n",
       "        202,  85, 162],\n",
       "       [170, 251,  34, 202, 134, 117,  92,  76, 139, 162, 166,  58, 110,\n",
       "        197,  76,  20],\n",
       "       [160, 210,  38,  43, 129, 227, 249, 130, 113,  73, 189,  73,  43,\n",
       "        139, 126, 120],\n",
       "       [150, 198,  47,  44, 140, 190, 214, 114, 253,   5,  47, 198, 172,\n",
       "         69, 121, 184],\n",
       "       [117, 152, 202, 217, 239, 250,  72, 147,  36,  68, 105, 236, 140,\n",
       "         25,  49, 105],\n",
       "       [142, 158, 247,  81, 136, 117, 143, 108, 134, 204, 194, 189,  56,\n",
       "        232,   8, 223],\n",
       "       [ 37, 172,  59, 182, 129,  41, 222, 109, 104,  89, 236, 183, 185,\n",
       "          9,  49,  84],\n",
       "       [159, 140, 194, 250,  48,  21, 126,  41, 180, 180, 111,   7,  50,\n",
       "        181, 247, 253],\n",
       "       [ 18,  27, 233, 145, 192, 194, 122,  45, 184,  40, 154, 207, 254,\n",
       "        107, 215,  66],\n",
       "       [217,  96, 136,  62,   9, 110,  37, 230, 179, 129, 199, 130,  44,\n",
       "         29,  30, 162],\n",
       "       [208, 113, 125,  60, 228, 162,  64, 236, 188,  83, 245,  54, 155,\n",
       "        139, 190,   8],\n",
       "       [240, 148, 174,  36,  47, 134,  63, 137, 176, 189, 189, 114, 113,\n",
       "         16,  70,  39],\n",
       "       [ 60,  83, 249,  79,  23, 237,  56,  93, 203, 224,  36, 197, 254,\n",
       "        117,  95, 104],\n",
       "       [ 21, 171,  12, 242, 134, 224,  57, 152, 108, 158,  21, 107,  54,\n",
       "        199, 146,  80]], dtype=uint8)"
      ]
     },
     "execution_count": 9,
     "metadata": {},
     "output_type": "execute_result"
    }
   ],
   "source": [
    "arr1"
   ]
  },
  {
   "cell_type": "code",
   "execution_count": null,
   "metadata": {},
   "outputs": [],
   "source": []
  }
 ],
 "metadata": {
  "kernelspec": {
   "display_name": "base",
   "language": "python",
   "name": "python3"
  },
  "language_info": {
   "codemirror_mode": {
    "name": "ipython",
    "version": 3
   },
   "file_extension": ".py",
   "mimetype": "text/x-python",
   "name": "python",
   "nbconvert_exporter": "python",
   "pygments_lexer": "ipython3",
   "version": "3.11.9"
  }
 },
 "nbformat": 4,
 "nbformat_minor": 2
}
