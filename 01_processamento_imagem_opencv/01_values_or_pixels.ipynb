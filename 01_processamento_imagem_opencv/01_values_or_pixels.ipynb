{
 "cells": [
  {
   "cell_type": "code",
   "execution_count": 1,
   "metadata": {},
   "outputs": [],
   "source": [
    "# Importa a biblioteca NumPy, que fornece suporte para grandes matrizes multidimensionais e funções matemáticas avançadas. Ela é essencial para cálculos numéricos eficientes em Python.\n",
    "import numpy as np\n",
    "\n",
    "# Importa a biblioteca Matplotlib, especificamente o módulo pyplot, que é usado para criar gráficos e visualizações de dados. Isso é fundamental para analisar visualmente os resultados do projeto científico.\n",
    "import matplotlib.pyplot as plt"
   ]
  },
  {
   "cell_type": "code",
   "execution_count": 2,
   "metadata": {},
   "outputs": [
    {
     "name": "stdout",
     "output_type": "stream",
     "text": [
      "[  0   1   2   3   4   5   6   7   8   9  10  11  12  13  14  15  16  17\n",
      "  18  19  20  21  22  23  24  25  26  27  28  29  30  31  32  33  34  35\n",
      "  36  37  38  39  40  41  42  43  44  45  46  47  48  49  50  51  52  53\n",
      "  54  55  56  57  58  59  60  61  62  63  64  65  66  67  68  69  70  71\n",
      "  72  73  74  75  76  77  78  79  80  81  82  83  84  85  86  87  88  89\n",
      "  90  91  92  93  94  95  96  97  98  99 100 101 102 103 104 105 106 107\n",
      " 108 109 110 111 112 113 114 115 116 117 118 119 120 121 122 123 124 125\n",
      " 126 127 128 129 130 131 132 133 134 135 136 137 138 139 140 141 142 143\n",
      " 144 145 146 147 148 149 150 151 152 153 154 155 156 157 158 159 160 161\n",
      " 162 163 164 165 166 167 168 169 170 171 172 173 174 175 176 177 178 179\n",
      " 180 181 182 183 184 185 186 187 188 189 190 191 192 193 194 195 196 197\n",
      " 198 199 200 201 202 203 204 205 206 207 208 209 210 211 212 213 214 215\n",
      " 216 217 218 219 220 221 222 223 224 225 226 227 228 229 230 231 232 233\n",
      " 234 235 236 237 238 239 240 241 242 243 244 245 246 247 248 249 250 251\n",
      " 252 253 254 255]\n"
     ]
    }
   ],
   "source": [
    "# Cria um array de números inteiros no intervalo de 0 a 255.\n",
    "# O array terá 256 elementos, organizados em uma única dimensão.\n",
    "# Esse array pode representar valores de intensidade de pixels, por exemplo, em uma imagem em tons de cinza.\n",
    "arr = np.arange(0, 256, 1)\n",
    "\n",
    "# Imprime o array criado.\n",
    "print(arr)"
   ]
  },
  {
   "cell_type": "code",
   "execution_count": 3,
   "metadata": {},
   "outputs": [
    {
     "name": "stdout",
     "output_type": "stream",
     "text": [
      "[[  0   1   2   3   4   5   6   7   8   9  10  11  12  13  14  15]\n",
      " [ 16  17  18  19  20  21  22  23  24  25  26  27  28  29  30  31]\n",
      " [ 32  33  34  35  36  37  38  39  40  41  42  43  44  45  46  47]\n",
      " [ 48  49  50  51  52  53  54  55  56  57  58  59  60  61  62  63]\n",
      " [ 64  65  66  67  68  69  70  71  72  73  74  75  76  77  78  79]\n",
      " [ 80  81  82  83  84  85  86  87  88  89  90  91  92  93  94  95]\n",
      " [ 96  97  98  99 100 101 102 103 104 105 106 107 108 109 110 111]\n",
      " [112 113 114 115 116 117 118 119 120 121 122 123 124 125 126 127]\n",
      " [128 129 130 131 132 133 134 135 136 137 138 139 140 141 142 143]\n",
      " [144 145 146 147 148 149 150 151 152 153 154 155 156 157 158 159]\n",
      " [160 161 162 163 164 165 166 167 168 169 170 171 172 173 174 175]\n",
      " [176 177 178 179 180 181 182 183 184 185 186 187 188 189 190 191]\n",
      " [192 193 194 195 196 197 198 199 200 201 202 203 204 205 206 207]\n",
      " [208 209 210 211 212 213 214 215 216 217 218 219 220 221 222 223]\n",
      " [224 225 226 227 228 229 230 231 232 233 234 235 236 237 238 239]\n",
      " [240 241 242 243 244 245 246 247 248 249 250 251 252 253 254 255]]\n"
     ]
    }
   ],
   "source": [
    "# Redimensiona o array 'arr' de uma única dimensão para uma matriz de 16x16.\n",
    "# Isso transforma o array de 256 elementos em uma matriz bidimensional com 16 linhas e 16 colunas.\n",
    "# Este formato é comum para representar imagens pequenas em tons de cinza, onde cada elemento corresponde a um pixel.\n",
    "arr = arr.reshape((16, 16))\n",
    "\n",
    "# Imprime a matriz redimensionada para verificar sua nova estrutura.\n",
    "print(arr)"
   ]
  },
  {
   "cell_type": "code",
   "execution_count": 4,
   "metadata": {},
   "outputs": [],
   "source": [
    "# Converte os elementos da matriz 'arr' para o tipo de dado uint8 (unsigned 8-bit integer).\n",
    "# Isso significa que cada elemento da matriz será um número inteiro sem sinal, variando de 0 a 255.\n",
    "# Essa conversão é comum em processamento de imagens, onde cada pixel é representado por um valor de 8 bits.\n",
    "arr_8bit = arr.astype(np.uint8)"
   ]
  },
  {
   "cell_type": "code",
   "execution_count": 5,
   "metadata": {},
   "outputs": [
    {
     "data": {
      "image/png": "[encoded data removed]",
      "text/plain": [
       "<Figure size 640x480 with 1 Axes>"
      ]
     },
     "metadata": {},
     "output_type": "display_data"
    }
   ],
   "source": [
    "# Exibe a matriz 'arr_8bit' como uma imagem em tons de cinza.\n",
    "# A função imshow() é utilizada para visualizar matrizes como imagens.\n",
    "# O parâmetro 'cmap' define o mapa de cores a ser utilizado, neste caso 'gray', para uma imagem em escala de cinza.\n",
    "plt.imshow(arr_8bit, cmap='gray')\n",
    "\n",
    "# Remove os eixos da imagem para uma visualização mais limpa.\n",
    "plt.axis('off')\n",
    "\n",
    "# Exibe a imagem na tela.\n",
    "plt.show()"
   ]
  },
  {
   "cell_type": "code",
   "execution_count": 6,
   "metadata": {},
   "outputs": [
    {
     "data": {
      "text/plain": [
       "(-0.5, 15.5, 15.5, -0.5)"
      ]
     },
     "execution_count": 6,
     "metadata": {},
     "output_type": "execute_result"
    },
    {
     "data": {
      "image/png": "[encoded data removed]",
      "text/plain": [
       "<Figure size 640x480 with 1 Axes>"
      ]
     },
     "metadata": {},
     "output_type": "display_data"
    }
   ],
   "source": [
    "# Gera uma matriz 16x16 com valores inteiros aleatórios entre 0 e 254\n",
    "# Esses valores serão do tipo uint8 (inteiros não negativos de 8 bits)\n",
    "arr1 = np.random.randint(low=0, high=255, size=(16,16), dtype=np.uint8)\n",
    "\n",
    "# Exibe a matriz como uma imagem em escala de cinza\n",
    "plt.imshow(arr1, cmap='gray')\n",
    "\n",
    "# Remove os eixos ao redor da imagem para exibição limpa\n",
    "plt.axis('off')"
   ]
  },
  {
   "cell_type": "code",
   "execution_count": 7,
   "metadata": {},
   "outputs": [
    {
     "data": {
      "text/plain": [
       "array([[244, 152, 126, 119, 185,  13, 245,  65, 207,  40, 219, 156, 138,\n",
       "        161, 166, 219],\n",
       "       [  7, 136, 168,  76, 186,  99, 238,  48,  62, 178, 216,  17, 154,\n",
       "        151, 214, 195],\n",
       "       [ 32, 232,  46,  29,  71,  21,  32,  42, 221, 155,  13, 210,  67,\n",
       "        193, 221, 191],\n",
       "       [ 53,  69, 215, 178,  71,  52, 241, 203, 126, 251, 254,  38,  75,\n",
       "        195,  21,  40],\n",
       "       [126, 200,  22,  32, 239, 156,  86, 104, 124, 194,  43, 135, 177,\n",
       "         40, 211, 157],\n",
       "       [139, 130,  78,  17, 161,  94,  15, 176, 105, 110, 147, 182,  28,\n",
       "         35, 159, 251],\n",
       "       [ 70, 235,  52,  54, 176, 180, 146,   3, 154, 128,  25,  68,  62,\n",
       "        149,  93,  34],\n",
       "       [ 13, 212, 139,  91, 159,   7,  49,  74, 220, 222,  98, 228, 227,\n",
       "          8, 224, 197],\n",
       "       [218, 184,  35, 103, 233, 233,  64,  35,  93,  27, 103,  55,  94,\n",
       "         77,  82, 196],\n",
       "       [233, 124,  80, 135,  47, 245,  36,  36,  83, 216, 203, 182, 222,\n",
       "         85, 126, 126],\n",
       "       [244,  59, 244,  82, 173, 158, 104, 154, 113, 168,  35, 163, 228,\n",
       "         85, 185, 247],\n",
       "       [ 30, 109, 210,  25,  94, 231,  81, 215, 139, 214,  20, 154,   7,\n",
       "        225, 137,  14],\n",
       "       [ 11, 202,  82,  85,  12,  13, 155,  79,   1, 239,  63, 185,  25,\n",
       "         21, 205, 230],\n",
       "       [177, 217, 158, 202, 128, 238,  24, 237, 121,  38, 126,  47,   0,\n",
       "        238, 250, 254],\n",
       "       [189,  29,  35, 192, 138,  16, 148, 222,  24,  88, 233,  39,  62,\n",
       "        244, 163,  53],\n",
       "       [ 38,  97, 207,  38, 253, 236, 113,  54, 144, 124, 134, 211,  65,\n",
       "         75, 223, 199]], dtype=uint8)"
      ]
     },
     "execution_count": 7,
     "metadata": {},
     "output_type": "execute_result"
    }
   ],
   "source": [
    "arr1"
   ]
  }
 ],
 "metadata": {
  "kernelspec": {
   "display_name": "base",
   "language": "python",
   "name": "python3"
  },
  "language_info": {
   "codemirror_mode": {
    "name": "ipython",
    "version": 3
   },
   "file_extension": ".py",
   "mimetype": "text/x-python",
   "name": "python",
   "nbconvert_exporter": "python",
   "pygments_lexer": "ipython3",
   "version": "3.11.9"
  }
 },
 "nbformat": 4,
 "nbformat_minor": 2
}
