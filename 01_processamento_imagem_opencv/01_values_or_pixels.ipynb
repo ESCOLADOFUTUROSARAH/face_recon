{
 "cells": [
  {
   "cell_type": "code",
   "execution_count": 8,
   "metadata": {},
   "outputs": [],
   "source": [
    "# Importa a biblioteca NumPy, que fornece suporte para grandes matrizes multidimensionais e funções matemáticas avançadas. Ela é essencial para cálculos numéricos eficientes em Python.\n",
    "import numpy as np\n",
    "\n",
    "# Importa a biblioteca Matplotlib, especificamente o módulo pyplot, que é usado para criar gráficos e visualizações de dados. Isso é fundamental para analisar visualmente os resultados do projeto científico.\n",
    "import matplotlib.pyplot as plt"
   ]
  },
  {
   "cell_type": "code",
   "execution_count": 3,
   "metadata": {},
   "outputs": [
    {
     "name": "stdout",
     "output_type": "stream",
     "text": [
      "[  0   1   2   3   4   5   6   7   8   9  10  11  12  13  14  15  16  17\n",
      "  18  19  20  21  22  23  24  25  26  27  28  29  30  31  32  33  34  35\n",
      "  36  37  38  39  40  41  42  43  44  45  46  47  48  49  50  51  52  53\n",
      "  54  55  56  57  58  59  60  61  62  63  64  65  66  67  68  69  70  71\n",
      "  72  73  74  75  76  77  78  79  80  81  82  83  84  85  86  87  88  89\n",
      "  90  91  92  93  94  95  96  97  98  99 100 101 102 103 104 105 106 107\n",
      " 108 109 110 111 112 113 114 115 116 117 118 119 120 121 122 123 124 125\n",
      " 126 127 128 129 130 131 132 133 134 135 136 137 138 139 140 141 142 143\n",
      " 144 145 146 147 148 149 150 151 152 153 154 155 156 157 158 159 160 161\n",
      " 162 163 164 165 166 167 168 169 170 171 172 173 174 175 176 177 178 179\n",
      " 180 181 182 183 184 185 186 187 188 189 190 191 192 193 194 195 196 197\n",
      " 198 199 200 201 202 203 204 205 206 207 208 209 210 211 212 213 214 215\n",
      " 216 217 218 219 220 221 222 223 224 225 226 227 228 229 230 231 232 233\n",
      " 234 235 236 237 238 239 240 241 242 243 244 245 246 247 248 249 250 251\n",
      " 252 253 254 255]\n"
     ]
    }
   ],
   "source": [
    "# Cria um array de números inteiros no intervalo de 0 a 255.\n",
    "# O array terá 256 elementos, organizados em uma única dimensão.\n",
    "# Esse array pode representar valores de intensidade de pixels, por exemplo, em uma imagem em tons de cinza.\n",
    "arr = np.arange(0, 256, 1)\n",
    "\n",
    "# Imprime o array criado.\n",
    "print(arr)"
   ]
  },
  {
   "cell_type": "code",
   "execution_count": 4,
   "metadata": {},
   "outputs": [
    {
     "name": "stdout",
     "output_type": "stream",
     "text": [
      "[[  0   1   2   3   4   5   6   7   8   9  10  11  12  13  14  15]\n",
      " [ 16  17  18  19  20  21  22  23  24  25  26  27  28  29  30  31]\n",
      " [ 32  33  34  35  36  37  38  39  40  41  42  43  44  45  46  47]\n",
      " [ 48  49  50  51  52  53  54  55  56  57  58  59  60  61  62  63]\n",
      " [ 64  65  66  67  68  69  70  71  72  73  74  75  76  77  78  79]\n",
      " [ 80  81  82  83  84  85  86  87  88  89  90  91  92  93  94  95]\n",
      " [ 96  97  98  99 100 101 102 103 104 105 106 107 108 109 110 111]\n",
      " [112 113 114 115 116 117 118 119 120 121 122 123 124 125 126 127]\n",
      " [128 129 130 131 132 133 134 135 136 137 138 139 140 141 142 143]\n",
      " [144 145 146 147 148 149 150 151 152 153 154 155 156 157 158 159]\n",
      " [160 161 162 163 164 165 166 167 168 169 170 171 172 173 174 175]\n",
      " [176 177 178 179 180 181 182 183 184 185 186 187 188 189 190 191]\n",
      " [192 193 194 195 196 197 198 199 200 201 202 203 204 205 206 207]\n",
      " [208 209 210 211 212 213 214 215 216 217 218 219 220 221 222 223]\n",
      " [224 225 226 227 228 229 230 231 232 233 234 235 236 237 238 239]\n",
      " [240 241 242 243 244 245 246 247 248 249 250 251 252 253 254 255]]\n"
     ]
    }
   ],
   "source": [
    "# Redimensiona o array 'arr' de uma única dimensão para uma matriz de 16x16.\n",
    "# Isso transforma o array de 256 elementos em uma matriz bidimensional com 16 linhas e 16 colunas.\n",
    "# Este formato é comum para representar imagens pequenas em tons de cinza, onde cada elemento corresponde a um pixel.\n",
    "arr = arr.reshape((16, 16))\n",
    "\n",
    "# Imprime a matriz redimensionada para verificar sua nova estrutura.\n",
    "print(arr)"
   ]
  },
  {
   "cell_type": "code",
   "execution_count": 5,
   "metadata": {},
   "outputs": [],
   "source": [
    "# Converte os elementos da matriz 'arr' para o tipo de dado uint8 (unsigned 8-bit integer).\n",
    "# Isso significa que cada elemento da matriz será um número inteiro sem sinal, variando de 0 a 255.\n",
    "# Essa conversão é comum em processamento de imagens, onde cada pixel é representado por um valor de 8 bits.\n",
    "arr_8bit = arr.astype(np.uint8)"
   ]
  },
  {
   "cell_type": "code",
   "execution_count": 7,
   "metadata": {},
   "outputs": [
    {
     "data": {
      "image/png": "[encoded data removed]",
      "text/plain": [
       "<Figure size 640x480 with 1 Axes>"
      ]
     },
     "metadata": {},
     "output_type": "display_data"
    }
   ],
   "source": [
    "# Exibe a matriz 'arr_8bit' como uma imagem em tons de cinza.\n",
    "# A função imshow() é utilizada para visualizar matrizes como imagens.\n",
    "# O parâmetro 'cmap' define o mapa de cores a ser utilizado, neste caso 'gray', para uma imagem em escala de cinza.\n",
    "plt.imshow(arr_8bit, cmap='gray')\n",
    "\n",
    "# Remove os eixos da imagem para uma visualização mais limpa.\n",
    "plt.axis('off')\n",
    "\n",
    "# Exibe a imagem na tela.\n",
    "plt.show()"
   ]
  },
  {
   "cell_type": "code",
   "execution_count": null,
   "metadata": {},
   "outputs": [],
   "source": []
  }
 ],
 "metadata": {
  "kernelspec": {
   "display_name": "base",
   "language": "python",
   "name": "python3"
  },
  "language_info": {
   "codemirror_mode": {
    "name": "ipython",
    "version": 3
   },
   "file_extension": ".py",
   "mimetype": "text/x-python",
   "name": "python",
   "nbconvert_exporter": "python",
   "pygments_lexer": "ipython3",
   "version": "3.11.9"
  }
 },
 "nbformat": 4,
 "nbformat_minor": 2
}
