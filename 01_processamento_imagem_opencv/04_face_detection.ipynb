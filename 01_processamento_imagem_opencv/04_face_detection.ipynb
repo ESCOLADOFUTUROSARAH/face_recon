{
 "cells": [
  {
   "cell_type": "code",
   "execution_count": 1,
   "metadata": {},
   "outputs": [],
   "source": [
    "import numpy as np\n",
    "import cv2"
   ]
  },
  {
   "cell_type": "code",
   "execution_count": 2,
   "metadata": {},
   "outputs": [],
   "source": [
    "img = cv2.imread('./data/alunos_02.jpg')\n",
    "\n",
    "cv2.imshow('image', img)\n",
    "cv2.waitKey(0)\n",
    "cv2.destroyAllWindows()"
   ]
  },
  {
   "cell_type": "code",
   "execution_count": 6,
   "metadata": {},
   "outputs": [],
   "source": [
    "# Load cascade classifier\n",
    "haar = cv2.CascadeClassifier('./data/haarcascade_frontalface_default.xml')"
   ]
  },
  {
   "cell_type": "code",
   "execution_count": 13,
   "metadata": {},
   "outputs": [],
   "source": [
    "image = img.copy()\n",
    "\n",
    "# step - 1: convert image to grayscale\n",
    "gray = cv2.cvtColor(img, cv2.COLOR_BGR2GRAY)\n",
    "# step - 2: apply grayscale image to cascade classifier \n",
    "face_rect = haar.detectMultiScale(gray, 1.2, 5)\n",
    "# step - 3: draw bounding box\n",
    "for x,y,w,h in face_rect:\n",
    "    cv2.rectangle(image, (x,y), (x + w, y + h), (0,255,0), 2)\n",
    "\n",
    "\n",
    "cv2.imshow('detected faces', image)\n",
    "cv2.waitKey(0)\n",
    "cv2.destroyAllWindows()"
   ]
  },
  {
   "cell_type": "code",
   "execution_count": 15,
   "metadata": {},
   "outputs": [
    {
     "name": "stdout",
     "output_type": "stream",
     "text": [
      "[[ 536  241   59   59]\n",
      " [ 420  258   63   63]\n",
      " [ 626  259   58   58]\n",
      " [ 883  238   74   74]\n",
      " [ 724  294   55   55]\n",
      " [1075  279   75   75]\n",
      " [ 800  306   53   53]\n",
      " [ 248  330   59   59]]\n"
     ]
    }
   ],
   "source": [
    "print(face_rect)"
   ]
  },
  {
   "cell_type": "code",
   "execution_count": null,
   "metadata": {},
   "outputs": [],
   "source": []
  },
  {
   "cell_type": "code",
   "execution_count": null,
   "metadata": {},
   "outputs": [],
   "source": []
  }
 ],
 "metadata": {
  "kernelspec": {
   "display_name": "base",
   "language": "python",
   "name": "python3"
  },
  "language_info": {
   "codemirror_mode": {
    "name": "ipython",
    "version": 3
   },
   "file_extension": ".py",
   "mimetype": "text/x-python",
   "name": "python",
   "nbconvert_exporter": "python",
   "pygments_lexer": "ipython3",
   "version": "3.11.9"
  }
 },
 "nbformat": 4,
 "nbformat_minor": 2
}
